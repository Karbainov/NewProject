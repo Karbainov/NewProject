{
 "cells": [
  {
   "cell_type": "code",
   "execution_count": null,
   "id": "47322cfb-1ab4-42d2-9cbd-3089e5247e0d",
   "metadata": {},
   "outputs": [],
   "source": [
    "fsdafasd\n",
    "fsad\n",
    "fasd\n",
    "fsda\n",
    "fsd\n",
    "f\n",
    "sdfa\n",
    "fd"
   ]
  },
  {
   "cell_type": "code",
   "execution_count": null,
   "id": "992d9a4e-b188-42ed-bc55-b052f695d2c5",
   "metadata": {},
   "outputs": [],
   "source": [
    "sdafsdafsadf\n",
    "sadf\n",
    "asdf\n",
    "sda\n"
   ]
  }
 ],
 "metadata": {
  "kernelspec": {
   "display_name": "Python 3 (ipykernel)",
   "language": "python",
   "name": "python3"
  },
  "language_info": {
   "codemirror_mode": {
    "name": "ipython",
    "version": 3
   },
   "file_extension": ".py",
   "mimetype": "text/x-python",
   "name": "python",
   "nbconvert_exporter": "python",
   "pygments_lexer": "ipython3",
   "version": "3.12.0"
  }
 },
 "nbformat": 4,
 "nbformat_minor": 5
}
